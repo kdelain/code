{
 "cells": [
  {
   "cell_type": "markdown",
   "metadata": {},
   "source": [
    "\"\"\"\n",
    "This program will allow two players to play Tic-Tac-Toe on a 3x3 grid with each space defined\n",
    "by rows A, B, C and columns 1, 2, 3 as shown:\n",
    "\n",
    "   1  2  3\n",
    "A    |  |\n",
    "   ---------\n",
    "B    |  |\n",
    "   ---------\n",
    "C    |  |\n",
    "\n",
    "Players enter a position (e.g. A1) and the program alternately places X's or O's\n",
    "\n",
    "Win condition is 3 in a row either vertically, horizontally, or diagonally\n",
    "\"\"\""
   ]
  },
  {
   "cell_type": "code",
   "execution_count": 1,
   "metadata": {
    "collapsed": true
   },
   "outputs": [],
   "source": [
    "'''\n",
    "Set up the environment and global variables\n",
    "'''\n",
    "\n",
    "# import functions to be used\n",
    "from IPython.display import clear_output\n",
    "\n",
    "\n",
    "# First set up the dictionary that will hold the values and place blanks in the spaces\n",
    "# so that it prints correctly. This would probably be easier using a list but demoing \n",
    "# dictionary use here\n",
    "my_board = {'A': {'1': '   ','2': '   ','3': '   '},\n",
    "            'B': {'1': '   ','2': '   ','3': '   '},\n",
    "            'C': {'1': '   ','2': '   ','3': '   '}}\n",
    " \n",
    "play_game = True       # for at the end, if want to play again\n",
    "continue_game = True   # for within the loop of playing the game\n",
    "\n",
    "# player default values\n",
    "player = ''\n",
    "upnext = ''\n",
    "\n",
    "nplays = 0        # set initial number of plays to zero, used for checking win/tie conditions"
   ]
  },
  {
   "cell_type": "code",
   "execution_count": 2,
   "metadata": {
    "collapsed": true
   },
   "outputs": [],
   "source": [
    "def clearboard():\n",
    "    ''' Function to clear the board for new game '''\n",
    "    #global my_board, play_game, nplays\n",
    "    my_board = {'A': {'1': '   ','2': '   ','3': '   '},\n",
    "            'B': {'1': '   ','2': '   ','3': '   '},\n",
    "            'C': {'1': '   ','2': '   ','3': '   '}}\n",
    "    nplays = 0\n",
    "    return my_board,nplays"
   ]
  },
  {
   "cell_type": "code",
   "execution_count": 3,
   "metadata": {
    "collapsed": true
   },
   "outputs": [],
   "source": [
    "def printboard(my_board):\n",
    "    ''' Print the board to the screen '''\n",
    "    clear_output()\n",
    "    row1 = 'A '+str(my_board['A']['1'])+'|'+str(my_board['A']['2'])+'|'+str(my_board['A']['3']+'\\n')\n",
    "    row2 = 'B '+str(my_board['B']['1'])+'|'+str(my_board['B']['2'])+'|'+str(my_board['B']['3']+'\\n')\n",
    "    row3 = 'C '+str(my_board['C']['1'])+'|'+str(my_board['C']['2'])+'|'+str(my_board['C']['3']+'\\n')\n",
    "    top =     '    1   2   3 \\n'\n",
    "    divider = '  -----------\\n'\n",
    "    \n",
    "    print(top,row1,divider,row2,divider,row3)"
   ]
  },
  {
   "cell_type": "code",
   "execution_count": 4,
   "metadata": {
    "collapsed": true
   },
   "outputs": [],
   "source": [
    "# Start the game\n",
    "# Returns a tuple with (Player 1, Player 2) choice of X and O\n",
    "# Tuple unpacked later as player,upnext=start()\n",
    "\n",
    "def start():\n",
    "    print('Welcome to Tic-Tac-Toe!')\n",
    "\n",
    "    player = ''\n",
    "        \n",
    "    while player != 'X' and player != 'O':\n",
    "        player = input('Will X or O go first? ').upper()\n",
    "        if player != 'X' and player != 'O':\n",
    "            print('Enter X or O please')\n",
    "            \n",
    "    print('Here is your starting board:')\n",
    "    \n",
    "    if player == 'X':\n",
    "        return ('X', 'O')\n",
    "    elif player == 'O':\n",
    "        return ('O', 'X')"
   ]
  },
  {
   "cell_type": "code",
   "execution_count": 9,
   "metadata": {},
   "outputs": [],
   "source": [
    "# Get the next play\n",
    "def getplay(my_board,nplays,upnext,player):   \n",
    "    \n",
    "    #Define the sets of acceptable row and column values:\n",
    "    rowvals = set(['A', 'B', 'C'])\n",
    "    colvals = set(['1','2','3'])\n",
    "\n",
    "    # Read play & check validity\n",
    "    print('It is', player,'\\'s turn')\n",
    "\n",
    "    while True: \n",
    "        play = input('Enter your play: ') \n",
    "        row = play[0].upper()  # Row values must be A, a, B, b, or C, c\n",
    "        col = play[1]          # Column values must be 1, 2 or 3    \n",
    "\n",
    "        if row not in rowvals and col not in colvals: \n",
    "            # Check for correct format\n",
    "            print('Please enter in the correct format, e.g. A1 or a1')\n",
    "            continue\n",
    "\n",
    "        elif my_board[row][col] != '   ':\n",
    "            # Check to make sure play is not on top of another play \n",
    "            print('That is already on the board. Enter another choice, ',player)\n",
    "            continue\n",
    "\n",
    "        else:\n",
    "            # Play is valid\n",
    "            my_board[row][col] = ' '+player+' '  # assign the player's symbol to the board\n",
    "            nplays += 1                          # update the number of plays\n",
    "            print('You have entered ', play)     # for debugging\n",
    "            # player,upnext = upnext,player        # swap player and upnext symbols\n",
    "            break\n",
    "\n",
    "    return my_board,nplays,upnext,player"
   ]
  },
  {
   "cell_type": "code",
   "execution_count": 6,
   "metadata": {},
   "outputs": [],
   "source": [
    "# Check to see if the play wins\n",
    "def checkwin(my_board, player, nplays):\n",
    "    # print('there have been ',nplays,' plays')  #for debugging\n",
    "    \n",
    "    if nplays < 5:      # Cannot win in less than 5 moves; no further checking needed\n",
    "        return True     # game has not ended, continue_game = True\n",
    "    \n",
    "    elif(             # Check to see if the play wins\n",
    "        #Horizontal Checks: (values in a given key are identical)\n",
    "        (my_board['A']['1'] == my_board['A']['2'] == my_board['A']['3'] == ' '+player+' ') or  \\\n",
    "        (my_board['B']['1'] == my_board['B']['2'] == my_board['B']['3'] == ' '+player+' ') or  \\\n",
    "        (my_board['C']['1'] == my_board['C']['2'] == my_board['C']['3'] == ' '+player+' ') or  \\\n",
    "                                                                                               \\\n",
    "        #Vertical Checks: (values in all the keys, same index are identical)\n",
    "        (my_board['A']['1'] == my_board['B']['1'] == my_board['C']['1'] == ' '+player+' ') or  \\\n",
    "        (my_board['A']['2'] == my_board['B']['2'] == my_board['C']['2'] == ' '+player+' ') or  \\\n",
    "        (my_board['A']['3'] == my_board['B']['3'] == my_board['C']['3'] == ' '+player+' ') or  \\\n",
    "                                                                                               \\\n",
    "        #Diagonal Checks: \n",
    "        (my_board['A']['1'] == my_board['B']['2'] == my_board['C']['3'] == ' '+player+' ') or  \\\n",
    "        (my_board['A']['3'] == my_board['B']['2'] == my_board['C']['1'] == ' '+player+' ')):\n",
    "\n",
    "        print(player, ' won!')\n",
    "        return False     # game has ended, continue_game = False\n",
    "\n",
    "    elif (nplays == 9):   #if didn't win and it's the 9th play, the board is full and it's a tie\n",
    "        print('It\\'s a tie!')\n",
    "        return False     # game has ended, continue_game = False\n",
    "\n",
    "    else:               # >= 5 plays but < 9 plays and did not win, game has not ended\n",
    "        return True    # game has not ended, continue_game = True"
   ]
  },
  {
   "cell_type": "code",
   "execution_count": 7,
   "metadata": {
    "collapsed": true
   },
   "outputs": [],
   "source": [
    "# Check if want to play again\n",
    "def playagain():\n",
    "    answer = input('Would you like to play again? (y/n) ').lower()\n",
    "\n",
    "    if answer == 'y':\n",
    "        return True   \n",
    "    else: \n",
    "        print('Thanks for playing!')\n",
    "        return False"
   ]
  },
  {
   "cell_type": "code",
   "execution_count": 8,
   "metadata": {
    "scrolled": true
   },
   "outputs": [
    {
     "name": "stdout",
     "output_type": "stream",
     "text": [
      "    1   2   3 \n",
      " A  O | X | X \n",
      "   -----------\n",
      " B  X | O | O \n",
      "   -----------\n",
      " C  O | X | O \n",
      "\n",
      "O  won!\n",
      "False\n",
      "Would you like to play again? (y/n) n\n",
      "Thanks for playing!\n"
     ]
    }
   ],
   "source": [
    "# Call the functions to play the game\n",
    "\n",
    "while play_game == True: \n",
    "    # set up the board \n",
    "    my_board,nplays = clearboard()\n",
    "    \n",
    "    # ask for player symbol choice to start the game\n",
    "    player, upnext = start()\n",
    "    \n",
    "    print('Great! Here is your starting board:')\n",
    "    printboard(my_board)\n",
    "    \n",
    "    #print(player, 'is up and', upnext, 'is next')\n",
    "    continue_game = True\n",
    "\n",
    "    while continue_game:\n",
    "        my_board,nplays,upnext,player = getplay(my_board, nplays, upnext, player) # get the current player's play & check to see if the play is valid\n",
    "        printboard(my_board)                             # print the board with the new play marked\n",
    "        continue_game = checkwin(my_board,player,nplays) # check to see if the win condition has been met\n",
    "        player,upnext = upnext,player                    # swap player and upnext symbols\n",
    "        \n",
    "    play_game = playagain()             # ask if they want to play again\n",
    "\n",
    "    "
   ]
  },
  {
   "cell_type": "code",
   "execution_count": null,
   "metadata": {
    "collapsed": true
   },
   "outputs": [],
   "source": []
  }
 ],
 "metadata": {
  "kernelspec": {
   "display_name": "Python 3",
   "language": "python",
   "name": "python3"
  },
  "language_info": {
   "codemirror_mode": {
    "name": "ipython",
    "version": 3
   },
   "file_extension": ".py",
   "mimetype": "text/x-python",
   "name": "python",
   "nbconvert_exporter": "python",
   "pygments_lexer": "ipython3",
   "version": "3.6.1"
  }
 },
 "nbformat": 4,
 "nbformat_minor": 2
}
